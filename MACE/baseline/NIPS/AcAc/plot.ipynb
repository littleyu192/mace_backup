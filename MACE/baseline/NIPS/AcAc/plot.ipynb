{
 "cells": [
  {
   "cell_type": "code",
   "execution_count": 1,
   "metadata": {},
   "outputs": [
    {
     "name": "stdout",
     "output_type": "stream",
     "text": [
      "300K\n",
      "RMSE E: 0.8 meV\n",
      "RMSE F: 5.9 meV/Å\n",
      "\n",
      "600K\n",
      "RMSE E: 8.2 meV\n",
      "RMSE F: 26.7 meV/Å\n",
      "\n"
     ]
    }
   ],
   "source": [
    "from ase.io import read\n",
    "import numpy as np\n",
    "\n",
    "def RMSE(type):\n",
    "    print(f'{type}')\n",
    "    configs = read(f'tests/test_MD_{type}.xyz', index=':')\n",
    "    diff_E = [ config.info['energy'] - config.info['MACE_energy'] for config in configs ]\n",
    "    diff_F = [ config.arrays['forces'] - config.arrays['MACE_forces'] for config in configs ]\n",
    "    print(f'RMSE E: {np.sqrt(np.mean(np.square(diff_E))) * 1000:.1f} meV')\n",
    "    print(f'RMSE F: {np.sqrt(np.mean(np.square(diff_F))) * 1000:.1f} meV/Å\\n')\n",
    "\n",
    "for type in ['300K', '600K']:\n",
    "    RMSE(type)"
   ]
  }
 ],
 "metadata": {
  "kernelspec": {
   "display_name": "MACE",
   "language": "python",
   "name": "python3"
  },
  "language_info": {
   "codemirror_mode": {
    "name": "ipython",
    "version": 3
   },
   "file_extension": ".py",
   "mimetype": "text/x-python",
   "name": "python",
   "nbconvert_exporter": "python",
   "pygments_lexer": "ipython3",
   "version": "3.11.9"
  }
 },
 "nbformat": 4,
 "nbformat_minor": 2
}
